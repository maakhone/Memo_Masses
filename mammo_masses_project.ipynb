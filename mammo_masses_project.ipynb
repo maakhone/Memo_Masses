{
  "nbformat": 4,
  "nbformat_minor": 0,
  "metadata": {
    "kernelspec": {
      "display_name": "Python 3",
      "language": "python",
      "name": "python3"
    },
    "language_info": {
      "codemirror_mode": {
        "name": "ipython",
        "version": 3
      },
      "file_extension": ".py",
      "mimetype": "text/x-python",
      "name": "python",
      "nbconvert_exporter": "python",
      "pygments_lexer": "ipython3",
      "version": "3.7.3"
    },
    "colab": {
      "name": "mammo_masses_project.ipynb",
      "provenance": []
    }
  },
  "cells": [
    {
      "cell_type": "code",
      "metadata": {
        "id": "P-idtj2MKtoH",
        "colab_type": "code",
        "colab": {
          "base_uri": "https://localhost:8080/",
          "height": 195
        },
        "outputId": "cac6d769-a0fd-472d-bae4-4acdafb2b9b7"
      },
      "source": [
        "import pandas as pd\n",
        "masses_data = pd.read_csv('mammographic_masses.data.txt', na_values=['?'], names = ['BI-RADS', 'age', 'shape', 'margin', 'density', 'severity'])\n",
        "masses_data.head()"
      ],
      "execution_count": 41,
      "outputs": [
        {
          "output_type": "execute_result",
          "data": {
            "text/html": [
              "<div>\n",
              "<style scoped>\n",
              "    .dataframe tbody tr th:only-of-type {\n",
              "        vertical-align: middle;\n",
              "    }\n",
              "\n",
              "    .dataframe tbody tr th {\n",
              "        vertical-align: top;\n",
              "    }\n",
              "\n",
              "    .dataframe thead th {\n",
              "        text-align: right;\n",
              "    }\n",
              "</style>\n",
              "<table border=\"1\" class=\"dataframe\">\n",
              "  <thead>\n",
              "    <tr style=\"text-align: right;\">\n",
              "      <th></th>\n",
              "      <th>BI-RADS</th>\n",
              "      <th>age</th>\n",
              "      <th>shape</th>\n",
              "      <th>margin</th>\n",
              "      <th>density</th>\n",
              "      <th>severity</th>\n",
              "    </tr>\n",
              "  </thead>\n",
              "  <tbody>\n",
              "    <tr>\n",
              "      <th>0</th>\n",
              "      <td>5.0</td>\n",
              "      <td>67.0</td>\n",
              "      <td>3.0</td>\n",
              "      <td>5.0</td>\n",
              "      <td>3.0</td>\n",
              "      <td>1</td>\n",
              "    </tr>\n",
              "    <tr>\n",
              "      <th>1</th>\n",
              "      <td>4.0</td>\n",
              "      <td>43.0</td>\n",
              "      <td>1.0</td>\n",
              "      <td>1.0</td>\n",
              "      <td>NaN</td>\n",
              "      <td>1</td>\n",
              "    </tr>\n",
              "    <tr>\n",
              "      <th>2</th>\n",
              "      <td>5.0</td>\n",
              "      <td>58.0</td>\n",
              "      <td>4.0</td>\n",
              "      <td>5.0</td>\n",
              "      <td>3.0</td>\n",
              "      <td>1</td>\n",
              "    </tr>\n",
              "    <tr>\n",
              "      <th>3</th>\n",
              "      <td>4.0</td>\n",
              "      <td>28.0</td>\n",
              "      <td>1.0</td>\n",
              "      <td>1.0</td>\n",
              "      <td>3.0</td>\n",
              "      <td>0</td>\n",
              "    </tr>\n",
              "    <tr>\n",
              "      <th>4</th>\n",
              "      <td>5.0</td>\n",
              "      <td>74.0</td>\n",
              "      <td>1.0</td>\n",
              "      <td>5.0</td>\n",
              "      <td>NaN</td>\n",
              "      <td>1</td>\n",
              "    </tr>\n",
              "  </tbody>\n",
              "</table>\n",
              "</div>"
            ],
            "text/plain": [
              "   BI-RADS   age  shape  margin  density  severity\n",
              "0      5.0  67.0    3.0     5.0      3.0         1\n",
              "1      4.0  43.0    1.0     1.0      NaN         1\n",
              "2      5.0  58.0    4.0     5.0      3.0         1\n",
              "3      4.0  28.0    1.0     1.0      3.0         0\n",
              "4      5.0  74.0    1.0     5.0      NaN         1"
            ]
          },
          "metadata": {
            "tags": []
          },
          "execution_count": 41
        }
      ]
    },
    {
      "cell_type": "code",
      "metadata": {
        "id": "x_W5CFbYKtoL",
        "colab_type": "code",
        "colab": {
          "base_uri": "https://localhost:8080/",
          "height": 284
        },
        "outputId": "bf67b411-65ce-43e6-af82-1d2afcf1d343"
      },
      "source": [
        "masses_data.describe()"
      ],
      "execution_count": 42,
      "outputs": [
        {
          "output_type": "execute_result",
          "data": {
            "text/html": [
              "<div>\n",
              "<style scoped>\n",
              "    .dataframe tbody tr th:only-of-type {\n",
              "        vertical-align: middle;\n",
              "    }\n",
              "\n",
              "    .dataframe tbody tr th {\n",
              "        vertical-align: top;\n",
              "    }\n",
              "\n",
              "    .dataframe thead th {\n",
              "        text-align: right;\n",
              "    }\n",
              "</style>\n",
              "<table border=\"1\" class=\"dataframe\">\n",
              "  <thead>\n",
              "    <tr style=\"text-align: right;\">\n",
              "      <th></th>\n",
              "      <th>BI-RADS</th>\n",
              "      <th>age</th>\n",
              "      <th>shape</th>\n",
              "      <th>margin</th>\n",
              "      <th>density</th>\n",
              "      <th>severity</th>\n",
              "    </tr>\n",
              "  </thead>\n",
              "  <tbody>\n",
              "    <tr>\n",
              "      <th>count</th>\n",
              "      <td>959.000000</td>\n",
              "      <td>956.000000</td>\n",
              "      <td>930.000000</td>\n",
              "      <td>913.000000</td>\n",
              "      <td>885.000000</td>\n",
              "      <td>961.000000</td>\n",
              "    </tr>\n",
              "    <tr>\n",
              "      <th>mean</th>\n",
              "      <td>4.348279</td>\n",
              "      <td>55.487448</td>\n",
              "      <td>2.721505</td>\n",
              "      <td>2.796276</td>\n",
              "      <td>2.910734</td>\n",
              "      <td>0.463059</td>\n",
              "    </tr>\n",
              "    <tr>\n",
              "      <th>std</th>\n",
              "      <td>1.783031</td>\n",
              "      <td>14.480131</td>\n",
              "      <td>1.242792</td>\n",
              "      <td>1.566546</td>\n",
              "      <td>0.380444</td>\n",
              "      <td>0.498893</td>\n",
              "    </tr>\n",
              "    <tr>\n",
              "      <th>min</th>\n",
              "      <td>0.000000</td>\n",
              "      <td>18.000000</td>\n",
              "      <td>1.000000</td>\n",
              "      <td>1.000000</td>\n",
              "      <td>1.000000</td>\n",
              "      <td>0.000000</td>\n",
              "    </tr>\n",
              "    <tr>\n",
              "      <th>25%</th>\n",
              "      <td>4.000000</td>\n",
              "      <td>45.000000</td>\n",
              "      <td>2.000000</td>\n",
              "      <td>1.000000</td>\n",
              "      <td>3.000000</td>\n",
              "      <td>0.000000</td>\n",
              "    </tr>\n",
              "    <tr>\n",
              "      <th>50%</th>\n",
              "      <td>4.000000</td>\n",
              "      <td>57.000000</td>\n",
              "      <td>3.000000</td>\n",
              "      <td>3.000000</td>\n",
              "      <td>3.000000</td>\n",
              "      <td>0.000000</td>\n",
              "    </tr>\n",
              "    <tr>\n",
              "      <th>75%</th>\n",
              "      <td>5.000000</td>\n",
              "      <td>66.000000</td>\n",
              "      <td>4.000000</td>\n",
              "      <td>4.000000</td>\n",
              "      <td>3.000000</td>\n",
              "      <td>1.000000</td>\n",
              "    </tr>\n",
              "    <tr>\n",
              "      <th>max</th>\n",
              "      <td>55.000000</td>\n",
              "      <td>96.000000</td>\n",
              "      <td>4.000000</td>\n",
              "      <td>5.000000</td>\n",
              "      <td>4.000000</td>\n",
              "      <td>1.000000</td>\n",
              "    </tr>\n",
              "  </tbody>\n",
              "</table>\n",
              "</div>"
            ],
            "text/plain": [
              "          BI-RADS         age       shape      margin     density    severity\n",
              "count  959.000000  956.000000  930.000000  913.000000  885.000000  961.000000\n",
              "mean     4.348279   55.487448    2.721505    2.796276    2.910734    0.463059\n",
              "std      1.783031   14.480131    1.242792    1.566546    0.380444    0.498893\n",
              "min      0.000000   18.000000    1.000000    1.000000    1.000000    0.000000\n",
              "25%      4.000000   45.000000    2.000000    1.000000    3.000000    0.000000\n",
              "50%      4.000000   57.000000    3.000000    3.000000    3.000000    0.000000\n",
              "75%      5.000000   66.000000    4.000000    4.000000    3.000000    1.000000\n",
              "max     55.000000   96.000000    4.000000    5.000000    4.000000    1.000000"
            ]
          },
          "metadata": {
            "tags": []
          },
          "execution_count": 42
        }
      ]
    },
    {
      "cell_type": "markdown",
      "metadata": {
        "id": "zMWl_lE3KtoR",
        "colab_type": "text"
      },
      "source": [
        "If the missing data seems randomly distributed, go ahead and drop rows with missing data. Hint: use dropna()."
      ]
    },
    {
      "cell_type": "code",
      "metadata": {
        "id": "k1G9FLzzKtoS",
        "colab_type": "code",
        "colab": {
          "base_uri": "https://localhost:8080/",
          "height": 284
        },
        "outputId": "b1bde8d2-2d21-4827-a7dd-43474804d377"
      },
      "source": [
        "masses_data.dropna(inplace=True)\n",
        "masses_data.describe()"
      ],
      "execution_count": 43,
      "outputs": [
        {
          "output_type": "execute_result",
          "data": {
            "text/html": [
              "<div>\n",
              "<style scoped>\n",
              "    .dataframe tbody tr th:only-of-type {\n",
              "        vertical-align: middle;\n",
              "    }\n",
              "\n",
              "    .dataframe tbody tr th {\n",
              "        vertical-align: top;\n",
              "    }\n",
              "\n",
              "    .dataframe thead th {\n",
              "        text-align: right;\n",
              "    }\n",
              "</style>\n",
              "<table border=\"1\" class=\"dataframe\">\n",
              "  <thead>\n",
              "    <tr style=\"text-align: right;\">\n",
              "      <th></th>\n",
              "      <th>BI-RADS</th>\n",
              "      <th>age</th>\n",
              "      <th>shape</th>\n",
              "      <th>margin</th>\n",
              "      <th>density</th>\n",
              "      <th>severity</th>\n",
              "    </tr>\n",
              "  </thead>\n",
              "  <tbody>\n",
              "    <tr>\n",
              "      <th>count</th>\n",
              "      <td>830.000000</td>\n",
              "      <td>830.000000</td>\n",
              "      <td>830.000000</td>\n",
              "      <td>830.000000</td>\n",
              "      <td>830.000000</td>\n",
              "      <td>830.000000</td>\n",
              "    </tr>\n",
              "    <tr>\n",
              "      <th>mean</th>\n",
              "      <td>4.393976</td>\n",
              "      <td>55.781928</td>\n",
              "      <td>2.781928</td>\n",
              "      <td>2.813253</td>\n",
              "      <td>2.915663</td>\n",
              "      <td>0.485542</td>\n",
              "    </tr>\n",
              "    <tr>\n",
              "      <th>std</th>\n",
              "      <td>1.888371</td>\n",
              "      <td>14.671782</td>\n",
              "      <td>1.242361</td>\n",
              "      <td>1.567175</td>\n",
              "      <td>0.350936</td>\n",
              "      <td>0.500092</td>\n",
              "    </tr>\n",
              "    <tr>\n",
              "      <th>min</th>\n",
              "      <td>0.000000</td>\n",
              "      <td>18.000000</td>\n",
              "      <td>1.000000</td>\n",
              "      <td>1.000000</td>\n",
              "      <td>1.000000</td>\n",
              "      <td>0.000000</td>\n",
              "    </tr>\n",
              "    <tr>\n",
              "      <th>25%</th>\n",
              "      <td>4.000000</td>\n",
              "      <td>46.000000</td>\n",
              "      <td>2.000000</td>\n",
              "      <td>1.000000</td>\n",
              "      <td>3.000000</td>\n",
              "      <td>0.000000</td>\n",
              "    </tr>\n",
              "    <tr>\n",
              "      <th>50%</th>\n",
              "      <td>4.000000</td>\n",
              "      <td>57.000000</td>\n",
              "      <td>3.000000</td>\n",
              "      <td>3.000000</td>\n",
              "      <td>3.000000</td>\n",
              "      <td>0.000000</td>\n",
              "    </tr>\n",
              "    <tr>\n",
              "      <th>75%</th>\n",
              "      <td>5.000000</td>\n",
              "      <td>66.000000</td>\n",
              "      <td>4.000000</td>\n",
              "      <td>4.000000</td>\n",
              "      <td>3.000000</td>\n",
              "      <td>1.000000</td>\n",
              "    </tr>\n",
              "    <tr>\n",
              "      <th>max</th>\n",
              "      <td>55.000000</td>\n",
              "      <td>96.000000</td>\n",
              "      <td>4.000000</td>\n",
              "      <td>5.000000</td>\n",
              "      <td>4.000000</td>\n",
              "      <td>1.000000</td>\n",
              "    </tr>\n",
              "  </tbody>\n",
              "</table>\n",
              "</div>"
            ],
            "text/plain": [
              "          BI-RADS         age       shape      margin     density    severity\n",
              "count  830.000000  830.000000  830.000000  830.000000  830.000000  830.000000\n",
              "mean     4.393976   55.781928    2.781928    2.813253    2.915663    0.485542\n",
              "std      1.888371   14.671782    1.242361    1.567175    0.350936    0.500092\n",
              "min      0.000000   18.000000    1.000000    1.000000    1.000000    0.000000\n",
              "25%      4.000000   46.000000    2.000000    1.000000    3.000000    0.000000\n",
              "50%      4.000000   57.000000    3.000000    3.000000    3.000000    0.000000\n",
              "75%      5.000000   66.000000    4.000000    4.000000    3.000000    1.000000\n",
              "max     55.000000   96.000000    4.000000    5.000000    4.000000    1.000000"
            ]
          },
          "metadata": {
            "tags": []
          },
          "execution_count": 43
        }
      ]
    },
    {
      "cell_type": "markdown",
      "metadata": {
        "collapsed": true,
        "id": "ymyx0CQBKtoV",
        "colab_type": "text"
      },
      "source": [
        "Converting to numpy for sklearn operations\n"
      ]
    },
    {
      "cell_type": "code",
      "metadata": {
        "id": "cnId_kdpKtoW",
        "colab_type": "code",
        "colab": {
          "base_uri": "https://localhost:8080/",
          "height": 134
        },
        "outputId": "eb3f8553-7d92-40e2-9090-2764ba0eb8a0"
      },
      "source": [
        "X = masses_data[['age', 'shape',\n",
        "                             'margin', 'density']].values\n",
        "\n",
        "\n",
        "y = masses_data['severity'].values\n",
        "\n",
        "feature_names = ['age', 'shape', 'margin', 'density']\n",
        "\n",
        "X"
      ],
      "execution_count": 44,
      "outputs": [
        {
          "output_type": "execute_result",
          "data": {
            "text/plain": [
              "array([[67.,  3.,  5.,  3.],\n",
              "       [58.,  4.,  5.,  3.],\n",
              "       [28.,  1.,  1.,  3.],\n",
              "       ...,\n",
              "       [64.,  4.,  5.,  3.],\n",
              "       [66.,  4.,  5.,  3.],\n",
              "       [62.,  3.,  3.,  3.]])"
            ]
          },
          "metadata": {
            "tags": []
          },
          "execution_count": 44
        }
      ]
    },
    {
      "cell_type": "markdown",
      "metadata": {
        "id": "DTwQQbwxKtoZ",
        "colab_type": "text"
      },
      "source": [
        "Normalizing inputs"
      ]
    },
    {
      "cell_type": "code",
      "metadata": {
        "id": "PVuEfUk0KtoZ",
        "colab_type": "code",
        "colab": {
          "base_uri": "https://localhost:8080/",
          "height": 134
        },
        "outputId": "9d212d63-ed6b-4f75-839b-143cfd09238f"
      },
      "source": [
        "from sklearn import preprocessing\n",
        "\n",
        "scaler = preprocessing.StandardScaler()\n",
        "X = scaler.fit_transform(X)\n",
        "X"
      ],
      "execution_count": 45,
      "outputs": [
        {
          "output_type": "execute_result",
          "data": {
            "text/plain": [
              "array([[ 0.7650629 ,  0.17563638,  1.39618483,  0.24046607],\n",
              "       [ 0.15127063,  0.98104077,  1.39618483,  0.24046607],\n",
              "       [-1.89470363, -1.43517241, -1.157718  ,  0.24046607],\n",
              "       ...,\n",
              "       [ 0.56046548,  0.98104077,  1.39618483,  0.24046607],\n",
              "       [ 0.69686376,  0.98104077,  1.39618483,  0.24046607],\n",
              "       [ 0.42406719,  0.17563638,  0.11923341,  0.24046607]])"
            ]
          },
          "metadata": {
            "tags": []
          },
          "execution_count": 45
        }
      ]
    },
    {
      "cell_type": "markdown",
      "metadata": {
        "id": "NIzM5z08Ktoc",
        "colab_type": "text"
      },
      "source": [
        "Before moving to any model, split data into training and testing....\n",
        "Train = 75% and Test = 25%."
      ]
    },
    {
      "cell_type": "code",
      "metadata": {
        "id": "z8JFs9-AKtoc",
        "colab_type": "code",
        "colab": {}
      },
      "source": [
        "import numpy\n",
        "from sklearn.model_selection import train_test_split\n",
        "X_train, X_test, y_train, y_test = train_test_split(X, y, test_size=0.75, random_state=1)"
      ],
      "execution_count": 46,
      "outputs": []
    },
    {
      "cell_type": "markdown",
      "metadata": {
        "id": "6UoUyzSTKtoe",
        "colab_type": "text"
      },
      "source": [
        "#DecisionTreeClassifier"
      ]
    },
    {
      "cell_type": "code",
      "metadata": {
        "id": "bgA1_lYWKtof",
        "colab_type": "code",
        "colab": {
          "base_uri": "https://localhost:8080/",
          "height": 118
        },
        "outputId": "1f9b3240-c2ef-41cc-9c5f-d9a31eae89d2"
      },
      "source": [
        "clf= DecisionTreeClassifier(random_state=1)\n",
        "# Train the classifier on the training set\n",
        "clf.fit(X_train, y_train)"
      ],
      "execution_count": 47,
      "outputs": [
        {
          "output_type": "execute_result",
          "data": {
            "text/plain": [
              "DecisionTreeClassifier(ccp_alpha=0.0, class_weight=None, criterion='gini',\n",
              "                       max_depth=None, max_features=None, max_leaf_nodes=None,\n",
              "                       min_impurity_decrease=0.0, min_impurity_split=None,\n",
              "                       min_samples_leaf=1, min_samples_split=2,\n",
              "                       min_weight_fraction_leaf=0.0, presort='deprecated',\n",
              "                       random_state=1, splitter='best')"
            ]
          },
          "metadata": {
            "tags": []
          },
          "execution_count": 47
        }
      ]
    },
    {
      "cell_type": "code",
      "metadata": {
        "id": "cmBgEpjxKtol",
        "colab_type": "code",
        "colab": {
          "base_uri": "https://localhost:8080/",
          "height": 34
        },
        "outputId": "ec570f81-247d-4995-ccff-df39f590153a"
      },
      "source": [
        "clf.score(X_test,y_test)"
      ],
      "execution_count": 48,
      "outputs": [
        {
          "output_type": "execute_result",
          "data": {
            "text/plain": [
              "0.6886035313001605"
            ]
          },
          "metadata": {
            "tags": []
          },
          "execution_count": 48
        }
      ]
    },
    {
      "cell_type": "markdown",
      "metadata": {
        "id": "04efX4vNKtoq",
        "colab_type": "text"
      },
      "source": [
        "Now instead of a single train/test split, use K-Fold cross validation to get a better measure of your model's accuracy (K=10)."
      ]
    },
    {
      "cell_type": "code",
      "metadata": {
        "id": "gJx8Bw83Ktoq",
        "colab_type": "code",
        "colab": {
          "base_uri": "https://localhost:8080/",
          "height": 34
        },
        "outputId": "65a57658-c42d-4c0a-9a3f-a39fcbf99871"
      },
      "source": [
        "from sklearn.model_selection import cross_val_score\n",
        "\n",
        "clf = DecisionTreeClassifier(random_state=1)\n",
        "\n",
        "cv_scores = cross_val_score(clf, X, y, cv=10)\n",
        "\n",
        "cv_scores.mean()"
      ],
      "execution_count": 49,
      "outputs": [
        {
          "output_type": "execute_result",
          "data": {
            "text/plain": [
              "0.7373493975903613"
            ]
          },
          "metadata": {
            "tags": []
          },
          "execution_count": 49
        }
      ]
    },
    {
      "cell_type": "markdown",
      "metadata": {
        "id": "XLUB1suAKtou",
        "colab_type": "text"
      },
      "source": [
        "#RandomForestClassifier"
      ]
    },
    {
      "cell_type": "code",
      "metadata": {
        "id": "c9hwHOV6Ktou",
        "colab_type": "code",
        "colab": {
          "base_uri": "https://localhost:8080/",
          "height": 34
        },
        "outputId": "d681e2f0-d534-4f2d-ad38-ffc9b7615e65"
      },
      "source": [
        "from sklearn.ensemble import RandomForestClassifier\n",
        "\n",
        "clf = RandomForestClassifier(n_estimators=10, random_state=1)\n",
        "cv_scores = cross_val_score(clf, X, y, cv=10)\n",
        "\n",
        "cv_scores.mean()"
      ],
      "execution_count": 50,
      "outputs": [
        {
          "output_type": "execute_result",
          "data": {
            "text/plain": [
              "0.7421686746987952"
            ]
          },
          "metadata": {
            "tags": []
          },
          "execution_count": 50
        }
      ]
    },
    {
      "cell_type": "markdown",
      "metadata": {
        "id": "mOYsUJ4ZKtox",
        "colab_type": "text"
      },
      "source": [
        "## SVM\n",
        "\n"
      ]
    },
    {
      "cell_type": "code",
      "metadata": {
        "id": "SnD-ezA_Ktox",
        "colab_type": "code",
        "colab": {}
      },
      "source": [
        "from sklearn import svm\n",
        "C = 1.0\n",
        "svc = svm.SVC(kernel='linear', C=C)"
      ],
      "execution_count": 51,
      "outputs": []
    },
    {
      "cell_type": "code",
      "metadata": {
        "id": "6gMynKDVKtoz",
        "colab_type": "code",
        "colab": {
          "base_uri": "https://localhost:8080/",
          "height": 34
        },
        "outputId": "a5e00061-eccf-435d-ea0b-528ae7a23691"
      },
      "source": [
        "cv_scores = cross_val_score(svc, X, y, cv=10)\n",
        "cv_scores.mean()"
      ],
      "execution_count": 52,
      "outputs": [
        {
          "output_type": "execute_result",
          "data": {
            "text/plain": [
              "0.7975903614457832"
            ]
          },
          "metadata": {
            "tags": []
          },
          "execution_count": 52
        }
      ]
    },
    {
      "cell_type": "markdown",
      "metadata": {
        "id": "PW7SSRz7Kto2",
        "colab_type": "text"
      },
      "source": [
        "## KNN"
      ]
    },
    {
      "cell_type": "code",
      "metadata": {
        "id": "HHmIvcZ6Kto2",
        "colab_type": "code",
        "colab": {
          "base_uri": "https://localhost:8080/",
          "height": 34
        },
        "outputId": "9feb8b1e-8e90-4a02-cdf7-241fcd601257"
      },
      "source": [
        "from sklearn import neighbors\n",
        "\n",
        "clf = neighbors.KNeighborsClassifier(n_neighbors=10)\n",
        "cv_scores = cross_val_score(clf, X,y,cv=10)\n",
        "\n",
        "cv_scores.mean()"
      ],
      "execution_count": 53,
      "outputs": [
        {
          "output_type": "execute_result",
          "data": {
            "text/plain": [
              "0.7915662650602409"
            ]
          },
          "metadata": {
            "tags": []
          },
          "execution_count": 53
        }
      ]
    },
    {
      "cell_type": "markdown",
      "metadata": {
        "id": "DsxN9HsHKto4",
        "colab_type": "text"
      },
      "source": [
        "Choosing K is tricky, so trying different values of K. Writing a for loop to run KNN with K values ranging from 1 to 60 and see if K makes a substantial difference."
      ]
    },
    {
      "cell_type": "code",
      "metadata": {
        "id": "WLCXy893Kto4",
        "colab_type": "code",
        "colab": {
          "base_uri": "https://localhost:8080/",
          "height": 1000
        },
        "outputId": "8ce8eb22-806e-4e9b-ea5d-8447a5c553a4"
      },
      "source": [
        "for n in range(1, 60):\n",
        "    clf = neighbors.KNeighborsClassifier(n_neighbors=n)\n",
        "    cv_scores = cross_val_score(clf, X, y, cv=10)\n",
        "    print (n, cv_scores.mean())"
      ],
      "execution_count": 54,
      "outputs": [
        {
          "output_type": "stream",
          "text": [
            "1 0.7325301204819278\n",
            "2 0.6903614457831325\n",
            "3 0.7542168674698796\n",
            "4 0.7349397590361446\n",
            "5 0.7710843373493976\n",
            "6 0.7686746987951807\n",
            "7 0.7951807228915662\n",
            "8 0.7771084337349398\n",
            "9 0.7903614457831326\n",
            "10 0.7915662650602409\n",
            "11 0.7891566265060241\n",
            "12 0.783132530120482\n",
            "13 0.7879518072289157\n",
            "14 0.7867469879518072\n",
            "15 0.7867469879518072\n",
            "16 0.7831325301204819\n",
            "17 0.7783132530120482\n",
            "18 0.7783132530120482\n",
            "19 0.7843373493975904\n",
            "20 0.7855421686746988\n",
            "21 0.7879518072289156\n",
            "22 0.7855421686746988\n",
            "23 0.7783132530120481\n",
            "24 0.7783132530120482\n",
            "25 0.7867469879518072\n",
            "26 0.7855421686746988\n",
            "27 0.7855421686746988\n",
            "28 0.7867469879518072\n",
            "29 0.7855421686746988\n",
            "30 0.7903614457831325\n",
            "31 0.7867469879518072\n",
            "32 0.789156626506024\n",
            "33 0.7879518072289156\n",
            "34 0.7867469879518072\n",
            "35 0.7831325301204819\n",
            "36 0.7867469879518072\n",
            "37 0.7843373493975904\n",
            "38 0.7867469879518072\n",
            "39 0.7819277108433734\n",
            "40 0.7843373493975904\n",
            "41 0.780722891566265\n",
            "42 0.7819277108433734\n",
            "43 0.780722891566265\n",
            "44 0.7819277108433734\n",
            "45 0.7831325301204819\n",
            "46 0.7843373493975904\n",
            "47 0.789156626506024\n",
            "48 0.7903614457831325\n",
            "49 0.7915662650602409\n",
            "50 0.7927710843373493\n",
            "51 0.7879518072289157\n",
            "52 0.7939759036144578\n",
            "53 0.791566265060241\n",
            "54 0.7915662650602409\n",
            "55 0.7927710843373494\n",
            "56 0.7939759036144578\n",
            "57 0.7951807228915663\n",
            "58 0.7963855421686746\n",
            "59 0.7963855421686747\n"
          ],
          "name": "stdout"
        }
      ]
    },
    {
      "cell_type": "markdown",
      "metadata": {
        "id": "9RWOGCvjKto6",
        "colab_type": "text"
      },
      "source": [
        "## Naive Bayes\n"
      ]
    },
    {
      "cell_type": "code",
      "metadata": {
        "id": "nvfC_GIWKto7",
        "colab_type": "code",
        "colab": {
          "base_uri": "https://localhost:8080/",
          "height": 34
        },
        "outputId": "2bed979f-12d7-46f1-fbf5-4bca07b73d39"
      },
      "source": [
        "from sklearn.naive_bayes import MultinomialNB\n",
        "\n",
        "scaler = preprocessing.MinMaxScaler()\n",
        "all_features_minmax = scaler.fit_transform(X)\n",
        "\n",
        "clf = MultinomialNB()\n",
        "cv_scores = cross_val_score(clf, all_features_minmax, all_classes, cv=10)\n",
        "\n",
        "cv_scores.mean()"
      ],
      "execution_count": 55,
      "outputs": [
        {
          "output_type": "execute_result",
          "data": {
            "text/plain": [
              "0.7855421686746988"
            ]
          },
          "metadata": {
            "tags": []
          },
          "execution_count": 55
        }
      ]
    },
    {
      "cell_type": "markdown",
      "metadata": {
        "id": "HEo9oiEKKto9",
        "colab_type": "text"
      },
      "source": [
        "## Revisiting SVM\n",
        "\n",
        "svm.SVC may perform differently with different kernels. The choice of kernel is an example of a \"hyperparamter.\" Trying the rbf, sigmoid, and poly kernels and see what the best-performing kernel is.."
      ]
    },
    {
      "cell_type": "code",
      "metadata": {
        "id": "FUPpa08EKto9",
        "colab_type": "code",
        "colab": {
          "base_uri": "https://localhost:8080/",
          "height": 34
        },
        "outputId": "daf99244-0370-45a8-be03-6ded02050ce9"
      },
      "source": [
        "C = 1.0\n",
        "svc = svm.SVC(kernel='rbf', C=C)\n",
        "cv_scores = cross_val_score(svc,X,y, cv=10)\n",
        "cv_scores.mean()"
      ],
      "execution_count": 56,
      "outputs": [
        {
          "output_type": "execute_result",
          "data": {
            "text/plain": [
              "0.8012048192771084"
            ]
          },
          "metadata": {
            "tags": []
          },
          "execution_count": 56
        }
      ]
    },
    {
      "cell_type": "code",
      "metadata": {
        "id": "y7-pYKlXKto_",
        "colab_type": "code",
        "colab": {
          "base_uri": "https://localhost:8080/",
          "height": 34
        },
        "outputId": "ea6189ea-d9a4-4eb8-b455-d4e40b50b35c"
      },
      "source": [
        "C = 1.0\n",
        "svc = svm.SVC(kernel='sigmoid', C=C)\n",
        "cv_scores = cross_val_score(svc,X,y, cv=10)\n",
        "cv_scores.mean()"
      ],
      "execution_count": 57,
      "outputs": [
        {
          "output_type": "execute_result",
          "data": {
            "text/plain": [
              "0.7457831325301204"
            ]
          },
          "metadata": {
            "tags": []
          },
          "execution_count": 57
        }
      ]
    },
    {
      "cell_type": "code",
      "metadata": {
        "id": "83OoJV2pKtpB",
        "colab_type": "code",
        "colab": {
          "base_uri": "https://localhost:8080/",
          "height": 34
        },
        "outputId": "f04011cb-ae17-45f4-8195-4a0ab9ec8a66"
      },
      "source": [
        "C = 1.0\n",
        "svc = svm.SVC(kernel='poly', C=C)\n",
        "cv_scores = cross_val_score(svc,X,y,cv=10)\n",
        "cv_scores.mean()"
      ],
      "execution_count": 58,
      "outputs": [
        {
          "output_type": "execute_result",
          "data": {
            "text/plain": [
              "0.7903614457831326"
            ]
          },
          "metadata": {
            "tags": []
          },
          "execution_count": 58
        }
      ]
    },
    {
      "cell_type": "markdown",
      "metadata": {
        "id": "hoc4GhDUKtpD",
        "colab_type": "text"
      },
      "source": [
        "## Logistic Regression\n",
        "\n",
        "This is a binary classification problem.Logisitic Regression is a simple way to tackling this sort of thing."
      ]
    },
    {
      "cell_type": "code",
      "metadata": {
        "id": "tO_xs7xmKtpE",
        "colab_type": "code",
        "colab": {
          "base_uri": "https://localhost:8080/",
          "height": 34
        },
        "outputId": "ab537565-a53f-4d51-d270-88f705a311b7"
      },
      "source": [
        "from sklearn.linear_model import LogisticRegression\n",
        "\n",
        "clf = LogisticRegression()\n",
        "cv_scores = cross_val_score(clf,X,y, cv=10)\n",
        "cv_scores.mean()"
      ],
      "execution_count": 59,
      "outputs": [
        {
          "output_type": "execute_result",
          "data": {
            "text/plain": [
              "0.8072289156626505"
            ]
          },
          "metadata": {
            "tags": []
          },
          "execution_count": 59
        }
      ]
    },
    {
      "cell_type": "code",
      "metadata": {
        "id": "vHUHuRemTAWH",
        "colab_type": "code",
        "colab": {}
      },
      "source": [
        "from sklearn.linear_model import LogisticRegression\n",
        "from sklearn.ensemble import RandomForestClassifier,GradientBoostingClassifier\n",
        "from sklearn.tree import DecisionTreeClassifier\n",
        "from sklearn.naive_bayes import GaussianNB\n",
        "from sklearn.neighbors import KNeighborsClassifier\n",
        "from sklearn.svm import LinearSVC,SVC"
      ],
      "execution_count": 62,
      "outputs": []
    },
    {
      "cell_type": "code",
      "metadata": {
        "id": "_U9Hxbb4KtpL",
        "colab_type": "code",
        "colab": {
          "base_uri": "https://localhost:8080/",
          "height": 312
        },
        "outputId": "8d92711c-aa57-4681-d364-32712eaee73a"
      },
      "source": [
        "from sklearn.tree import DecisionTreeClassifier\n",
        "models=[LogisticRegression(),LinearSVC(),SVC(kernel='rbf'),KNeighborsClassifier(),RandomForestClassifier(),\n",
        "        DecisionTreeClassifier(),GradientBoostingClassifier(),GaussianNB()]\n",
        "model_names=['LogisticRegression','LinearSVM','rbfSVM','KNearestNeighbors','RandomForestClassifier','DecisionTree',\n",
        "             'GradientBoostingClassifier','GaussianNB']\n",
        "import seaborn as sns\n",
        "import matplotlib.pyplot as plt\n",
        "acc_score=[]\n",
        "\n",
        "for model in range(len(models)):\n",
        "    clf=models[model]\n",
        "    clf.fit(X_train,y_train)\n",
        "    pred=clf.predict(X_test)\n",
        "    acc_score.append(accuracy_score(pred,y_test))\n",
        "     \n",
        "d={'Model':model_names,'Accuracy':acc_score}\n",
        "\n",
        "acc_table=pd.DataFrame(d)\n",
        "acc_table\n",
        "\n",
        "sns.barplot(y='Model',x='Accuracy',data=acc_table)\n",
        "plt.xlabel('Learning Models')\n",
        "plt.ylabel('Accuracy scores')\n",
        "plt.title('Accuracy levels of different classification models')"
      ],
      "execution_count": 63,
      "outputs": [
        {
          "output_type": "execute_result",
          "data": {
            "text/plain": [
              "Text(0.5, 1.0, 'Accuracy levels of different classification models')"
            ]
          },
          "metadata": {
            "tags": []
          },
          "execution_count": 63
        },
        {
          "output_type": "display_data",
          "data": {
            "image/png": "[encoded data removed]",
            "text/plain": [
              "<Figure size 432x288 with 1 Axes>"
            ]
          },
          "metadata": {
            "tags": [],
            "needs_background": "light"
          }
        }
      ]
    },
    {
      "cell_type": "code",
      "metadata": {
        "id": "ihb7etJEUSuR",
        "colab_type": "code",
        "colab": {}
      },
      "source": [
        ""
      ],
      "execution_count": null,
      "outputs": []
    }
  ]
}